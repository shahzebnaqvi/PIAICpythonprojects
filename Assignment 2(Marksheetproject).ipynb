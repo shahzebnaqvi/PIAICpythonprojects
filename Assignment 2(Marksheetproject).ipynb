{
 "cells": [
  {
   "cell_type": "markdown",
   "metadata": {},
   "source": [
    "\n",
    "#Python project\n",
    "\n"
   ]
  },
  {
   "cell_type": "code",
   "execution_count": 5,
   "metadata": {},
   "outputs": [
    {
     "name": "stdout",
     "output_type": "stream",
     "text": [
      "Marksheet\n",
      "\n",
      "Enter Student Name:43\n",
      "Enter Roll Number:34\n",
      "Enter Physics Marks:43\n",
      "Enter Chemistry Marks:34\n",
      "Enter Math Marks:34\n",
      "Enter Urdu Marks:34\n",
      "Enter English Marks:34\n",
      "Enter Islamiat Marks:34\n",
      "\n",
      "_________________________________\n",
      "\n"
     ]
    }
   ],
   "source": [
    "print(\"Marksheet\")\n",
    "print()\n",
    "name=input(\"Enter Student Name:\")\n",
    "roll_num=input(\"Enter Roll Number:\")\n",
    "phy_marks=int(input(\"Enter Physics Marks:\"))\n",
    "chem_marks=int(input(\"Enter Chemistry Marks:\"))\n",
    "math_marks=int(input(\"Enter Math Marks:\"))\n",
    "urdu_marks=int(input(\"Enter Urdu Marks:\"))\n",
    "eng_marks=int(input(\"Enter English Marks:\"))\n",
    "islam_marks=int(input(\"Enter Islamiat Marks:\"))\n",
    "print()\n",
    "print(\"_________________________________\")\n",
    "print()\n",
    "obtained_marks= phy_marks + chem_marks + math_marks + urdu_marks + eng_marks + islam_marks\n",
    "total_marks=550\n",
    "percentage=((obtained_marks / total_marks) * 100)\n",
    "with open(\"Marksheet.doc\", \"w\") as Marksheetp:\n",
    "    Marksheetp.write(\"-------------------------------------------------------------------------\\n\")\n",
    "    Marksheetp.write(\"                                Marksheet\\n\")\n",
    "    Marksheetp.write(\"_________________________________________________________________________\\n\")\n",
    "    Marksheetp.write(\"      Student Name = \" +str(name) +\"       \"+\"                  Roll Number = \" + str(roll_num) + \"\\n\")\n",
    "    Marksheetp.write(\"Chemistry Marks =\" +str(chem_marks) +\"\\n\" )\n",
    "    Marksheetp.write(\"Math Marks =\" +str(math_marks) +\"\\n\" )\n",
    "    Marksheetp.write(\"Urdu Marks =\" +str(urdu_marks) +\"\\n\" )\n",
    "    Marksheetp.write(\"English Marks =\" +str(eng_marks) +\"\\n\" )\n",
    "    Marksheetp.write(\"Islamiat Marks =\" +str(islam_marks) +\"\\n\" )\n",
    "    Marksheetp.write(\"Total Marks =\" +str(total_marks) +\"\\n\" )\n",
    "    Marksheetp.write(\"Percentage =\" +str(percentage) +\"\\n\" )\n",
    "    Marksheetp.write(\"Percentage =\" +PP +\"\\n\" )\n",
    "if percentage >=80 and percentage <=100:\n",
    "    PP=\"Grade A\"\n",
    "if percentage >=65 and percentage <=80:\n",
    "    PP=\"Grade B\"\n",
    "if percentage >=50 and percentage <=70:\n",
    "    PP=\"Grade C\"\n",
    "if percentage >=40 and percentage <=60:\n",
    "    PP=\"Grade D\"\n",
    "if percentage >=0 and percentage <=50:\n",
    "    PP=\"Grade F\"\n",
    "\n",
    " "
   ]
  },
  {
   "cell_type": "markdown",
   "metadata": {},
   "source": [
    "#### "
   ]
  }
 ],
 "metadata": {
  "kernelspec": {
   "display_name": "Python 3",
   "language": "python",
   "name": "python3"
  },
  "language_info": {
   "codemirror_mode": {
    "name": "ipython",
    "version": 3
   },
   "file_extension": ".py",
   "mimetype": "text/x-python",
   "name": "python",
   "nbconvert_exporter": "python",
   "pygments_lexer": "ipython3",
   "version": "3.7.3"
  }
 },
 "nbformat": 4,
 "nbformat_minor": 2
}
