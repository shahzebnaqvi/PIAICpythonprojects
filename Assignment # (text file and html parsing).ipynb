{
 "cells": [
  {
   "cell_type": "code",
   "execution_count": 9,
   "metadata": {},
   "outputs": [
    {
     "name": "stdout",
     "output_type": "stream",
     "text": [
      "Enter Your Text Filename: sample_text_file.txt\n"
     ]
    },
    {
     "ename": "UnicodeDecodeError",
     "evalue": "'utf-8' codec can't decode byte 0xa9 in position 32: invalid start byte",
     "output_type": "error",
     "traceback": [
      "\u001b[1;31m---------------------------------------------------------------------------\u001b[0m",
      "\u001b[1;31mUnicodeDecodeError\u001b[0m                        Traceback (most recent call last)",
      "\u001b[1;32m<ipython-input-9-1057a7ac9b20>\u001b[0m in \u001b[0;36m<module>\u001b[1;34m()\u001b[0m\n\u001b[0;32m     35\u001b[0m \u001b[1;33m\u001b[0m\u001b[0m\n\u001b[0;32m     36\u001b[0m \u001b[1;32mif\u001b[0m \u001b[0mpath\u001b[0m\u001b[1;33m.\u001b[0m\u001b[0misfile\u001b[0m\u001b[1;33m(\u001b[0m\u001b[0mname\u001b[0m\u001b[1;33m)\u001b[0m \u001b[1;32mis\u001b[0m \u001b[1;32mTrue\u001b[0m\u001b[1;33m:\u001b[0m\u001b[1;33m\u001b[0m\u001b[0m\n\u001b[1;32m---> 37\u001b[1;33m     \u001b[0mspaces\u001b[0m\u001b[1;33m,\u001b[0m \u001b[0mtabs\u001b[0m\u001b[1;33m,\u001b[0m \u001b[0mlines\u001b[0m\u001b[1;33m,\u001b[0m \u001b[0mwords\u001b[0m\u001b[1;33m,\u001b[0m \u001b[0mspecialchracters\u001b[0m \u001b[1;33m=\u001b[0m \u001b[0mfile\u001b[0m\u001b[1;33m(\u001b[0m\u001b[0mname\u001b[0m\u001b[1;33m)\u001b[0m\u001b[1;33m\u001b[0m\u001b[0m\n\u001b[0m\u001b[0;32m     38\u001b[0m     \u001b[0mprint\u001b[0m\u001b[1;33m(\u001b[0m\u001b[1;34m\"\\nYour Requested Information: \"\u001b[0m\u001b[1;33m.\u001b[0m\u001b[0mformat\u001b[0m\u001b[1;33m(\u001b[0m\u001b[0mname\u001b[0m\u001b[1;33m)\u001b[0m\u001b[1;33m)\u001b[0m\u001b[1;33m\u001b[0m\u001b[0m\n\u001b[0;32m     39\u001b[0m     \u001b[0mprint\u001b[0m\u001b[1;33m(\u001b[0m\u001b[1;34m\"\\nNumber Of Words:                 {}\"\u001b[0m\u001b[1;33m.\u001b[0m\u001b[0mformat\u001b[0m\u001b[1;33m(\u001b[0m\u001b[0mwords\u001b[0m\u001b[1;33m)\u001b[0m\u001b[1;33m)\u001b[0m\u001b[1;33m\u001b[0m\u001b[0m\n",
      "\u001b[1;32m<ipython-input-9-1057a7ac9b20>\u001b[0m in \u001b[0;36mfile\u001b[1;34m(path)\u001b[0m\n\u001b[0;32m     22\u001b[0m     \u001b[0mg\u001b[0m                \u001b[1;33m=\u001b[0m \u001b[0mopen\u001b[0m\u001b[1;33m(\u001b[0m\u001b[0mpath\u001b[0m\u001b[1;33m,\u001b[0m \u001b[0mencoding\u001b[0m\u001b[1;33m=\u001b[0m\u001b[1;34m\"utf8\"\u001b[0m\u001b[1;33m)\u001b[0m\u001b[1;33m\u001b[0m\u001b[0m\n\u001b[0;32m     23\u001b[0m     \u001b[0mspaces\u001b[0m           \u001b[1;33m=\u001b[0m \u001b[0mtabs\u001b[0m \u001b[1;33m=\u001b[0m \u001b[0mwords\u001b[0m \u001b[1;33m=\u001b[0m \u001b[0mnum_lines\u001b[0m \u001b[1;33m=\u001b[0m \u001b[0mtotalchars\u001b[0m \u001b[1;33m=\u001b[0m \u001b[0mspecialchracters\u001b[0m \u001b[1;33m=\u001b[0m \u001b[1;36m0\u001b[0m\u001b[1;33m\u001b[0m\u001b[0m\n\u001b[1;32m---> 24\u001b[1;33m     \u001b[0mlines_in_file\u001b[0m    \u001b[1;33m=\u001b[0m \u001b[0mg\u001b[0m\u001b[1;33m.\u001b[0m\u001b[0mread\u001b[0m\u001b[1;33m(\u001b[0m\u001b[1;33m)\u001b[0m\u001b[1;33m\u001b[0m\u001b[0m\n\u001b[0m\u001b[0;32m     25\u001b[0m     \u001b[0mtotalchars\u001b[0m       \u001b[1;33m=\u001b[0m \u001b[0mlen\u001b[0m\u001b[1;33m(\u001b[0m\u001b[0mlines_in_file\u001b[0m\u001b[1;33m)\u001b[0m\u001b[1;33m\u001b[0m\u001b[0m\n\u001b[0;32m     26\u001b[0m     \u001b[0mwords\u001b[0m            \u001b[1;33m=\u001b[0m \u001b[0mlen\u001b[0m\u001b[1;33m(\u001b[0m\u001b[0mlines_in_file\u001b[0m\u001b[1;33m.\u001b[0m\u001b[0msplit\u001b[0m\u001b[1;33m(\u001b[0m\u001b[1;33m)\u001b[0m\u001b[1;33m)\u001b[0m\u001b[1;33m\u001b[0m\u001b[0m\n",
      "\u001b[1;32m~\\Anaconda3\\lib\\codecs.py\u001b[0m in \u001b[0;36mdecode\u001b[1;34m(self, input, final)\u001b[0m\n\u001b[0;32m    320\u001b[0m         \u001b[1;31m# decode input (taking the buffer into account)\u001b[0m\u001b[1;33m\u001b[0m\u001b[1;33m\u001b[0m\u001b[0m\n\u001b[0;32m    321\u001b[0m         \u001b[0mdata\u001b[0m \u001b[1;33m=\u001b[0m \u001b[0mself\u001b[0m\u001b[1;33m.\u001b[0m\u001b[0mbuffer\u001b[0m \u001b[1;33m+\u001b[0m \u001b[0minput\u001b[0m\u001b[1;33m\u001b[0m\u001b[0m\n\u001b[1;32m--> 322\u001b[1;33m         \u001b[1;33m(\u001b[0m\u001b[0mresult\u001b[0m\u001b[1;33m,\u001b[0m \u001b[0mconsumed\u001b[0m\u001b[1;33m)\u001b[0m \u001b[1;33m=\u001b[0m \u001b[0mself\u001b[0m\u001b[1;33m.\u001b[0m\u001b[0m_buffer_decode\u001b[0m\u001b[1;33m(\u001b[0m\u001b[0mdata\u001b[0m\u001b[1;33m,\u001b[0m \u001b[0mself\u001b[0m\u001b[1;33m.\u001b[0m\u001b[0merrors\u001b[0m\u001b[1;33m,\u001b[0m \u001b[0mfinal\u001b[0m\u001b[1;33m)\u001b[0m\u001b[1;33m\u001b[0m\u001b[0m\n\u001b[0m\u001b[0;32m    323\u001b[0m         \u001b[1;31m# keep undecoded input until the next call\u001b[0m\u001b[1;33m\u001b[0m\u001b[1;33m\u001b[0m\u001b[0m\n\u001b[0;32m    324\u001b[0m         \u001b[0mself\u001b[0m\u001b[1;33m.\u001b[0m\u001b[0mbuffer\u001b[0m \u001b[1;33m=\u001b[0m \u001b[0mdata\u001b[0m\u001b[1;33m[\u001b[0m\u001b[0mconsumed\u001b[0m\u001b[1;33m:\u001b[0m\u001b[1;33m]\u001b[0m\u001b[1;33m\u001b[0m\u001b[0m\n",
      "\u001b[1;31mUnicodeDecodeError\u001b[0m: 'utf-8' codec can't decode byte 0xa9 in position 32: invalid start byte"
     ]
    }
   ],
   "source": [
    "#1. Parsing Of The Sir's Given Text File:\n",
    "\n",
    "from os import path\n",
    "\n",
    "def filecheak(e):\n",
    "    f         = open(e, encoding=\"utf8\")\n",
    "    line      = 0\n",
    "    paragraph = 0\n",
    "    cheak     = True\n",
    "    for i in f:\n",
    "        if '\\n' in i:\n",
    "            line += 1\n",
    "            if len(i) < 2:\n",
    "                cheak = True\n",
    "            elif len(i) > 2 and cheak is True:\n",
    "                paragraph = paragraph + 1\n",
    "                cheak     = False\n",
    "    f.close()\n",
    "    print(\"Number Of Paragraphs:            {}\".format(paragraph))\n",
    "\n",
    "def file(path):\n",
    "    g                = open(path, encoding=\"utf8\")\n",
    "    spaces           = tabs = words = num_lines = totalchars = specialchracters = 0\n",
    "    lines_in_file    = g.read()\n",
    "    totalchars       = len(lines_in_file)\n",
    "    words            = len(lines_in_file.split())\n",
    "    num_lines        = lines_in_file.count('\\n') +1\n",
    "    tabs             = len(lines_in_file.split('\\t')) -1\n",
    "    spaces           = len(lines_in_file.split(' ')) -1\n",
    "    specialchracters = totalchars - spaces - tabs\n",
    "    g.close()\n",
    "    return spaces , tabs, num_lines, words, specialchracters\n",
    "    \n",
    "name = input(\"Enter Your Text Filename: \")\n",
    "\n",
    "if path.isfile(name) is True:        \n",
    "    spaces, tabs, lines, words, specialchracters = file(name)\n",
    "    print(\"\\nYour Requested Information: \".format(name))\n",
    "    print(\"\\nNumber Of Words:                 {}\".format(words))\n",
    "    print(\"Number Of Lines:                 {}\".format(lines))\n",
    "    print(\"Number Of Non-Space Characters:  {}\".format(specialchracters))\n",
    "    print(\"Number Of Spaces:                {}\".format(spaces))\n",
    "    print(\"Number Of Tabs:                  {}\".format(tabs))\n",
    "    filecheak(name)    \n",
    "else :\n",
    "    print(\"\\nThe File (\", name, \") Does Not Exist.\")"
   ]
  },
  {
   "cell_type": "code",
   "execution_count": 4,
   "metadata": {},
   "outputs": [
    {
     "name": "stdout",
     "output_type": "stream",
     "text": [
      "Enter Your HTML Filename: example_html_file.html\n",
      "\n",
      "Your Requested Information: \n",
      "\n",
      "The Opening Tags: {'html': 1, 'head': 1, 'title': 1, 'style': 1, 'body': 1, 'h1': 1, 'p': 3, 'a': 1}\n",
      "The Closing Tags: {'title': 1, 'style': 1, 'head': 1, 'h1': 1, 'p': 3, 'a': 1, 'body': 1, 'html': 1}\n"
     ]
    }
   ],
   "source": [
    "#2. Parsing Of The Sir's Given HTML File:\n",
    "\n",
    "from os import path\n",
    "from html.parser import HTMLParser\n",
    "\n",
    "opentags  ={}\n",
    "closetags ={}\n",
    "class hparser(HTMLParser):\n",
    "    def handle_starttag(a, tag, attrs):\n",
    "        if tag not in opentags:\n",
    "            opentags[tag] = 1\n",
    "        else:\n",
    "            opentags[tag] +=1\n",
    "            \n",
    "    def display(a):  \n",
    "        print(\"\\nThe Opening Tags: {}\".format(opentags))\n",
    "        print(\"The Closing Tags: {}\".format(closetags))\n",
    "        \n",
    "    def handle_endtag(a, tag):\n",
    "        if tag not in closetags:\n",
    "            closetags[tag] = 1\n",
    "        else:\n",
    "            closetags[tag]  +=1 \n",
    "\n",
    "htmlname = input(\"Enter Your HTML Filename: \")\n",
    "\n",
    "if path.isfile(htmlname) is True:\n",
    "    parser = hparser()\n",
    "    f      = open(htmlname, 'r')\n",
    "    data   = f.read()\n",
    "    print(\"\\nYour Requested Information: \".format(htmlname))\n",
    "    parser.feed(data)\n",
    "    parser.display() \n",
    "    opentags = {}\n",
    "else :\n",
    "    print(\"\\nThe File (\", htmlname, \") Does Not Exist.\")\n"
   ]
  },
  {
   "cell_type": "code",
   "execution_count": null,
   "metadata": {},
   "outputs": [],
   "source": []
  },
  {
   "cell_type": "code",
   "execution_count": null,
   "metadata": {},
   "outputs": [],
   "source": []
  }
 ],
 "metadata": {
  "kernelspec": {
   "display_name": "Python 3",
   "language": "python",
   "name": "python3"
  },
  "language_info": {
   "codemirror_mode": {
    "name": "ipython",
    "version": 3
   },
   "file_extension": ".py",
   "mimetype": "text/x-python",
   "name": "python",
   "nbconvert_exporter": "python",
   "pygments_lexer": "ipython3",
   "version": "3.7.0"
  }
 },
 "nbformat": 4,
 "nbformat_minor": 2
}
